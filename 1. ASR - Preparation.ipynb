{
 "cells": [
  {
   "cell_type": "code",
   "execution_count": 1,
   "id": "initial_id",
   "metadata": {
    "collapsed": true,
    "ExecuteTime": {
     "end_time": "2024-11-08T09:17:31.814675700Z",
     "start_time": "2024-11-08T09:17:22.523584Z"
    }
   },
   "outputs": [],
   "source": [
    "from datasets import load_dataset, Audio, DatasetDict, concatenate_datasets, get_dataset_config_names\n",
    "import pandas as pd\n",
    "import json"
   ]
  },
  {
   "cell_type": "code",
   "execution_count": 2,
   "outputs": [],
   "source": [
    "minds_14 = load_dataset(\"PolyAI/minds14\", 'en-US', trust_remote_code=True)"
   ],
   "metadata": {
    "collapsed": false,
    "ExecuteTime": {
     "end_time": "2024-11-08T09:32:50.784646900Z",
     "start_time": "2024-11-08T09:32:44.853515900Z"
    }
   },
   "id": "348ba05694101e8d"
  },
  {
   "cell_type": "code",
   "execution_count": 3,
   "outputs": [
    {
     "name": "stdout",
     "output_type": "stream",
     "text": [
      "['cs-CZ', 'de-DE', 'en-AU', 'en-GB', 'en-US', 'es-ES', 'fr-FR', 'it-IT', 'ko-KR', 'nl-NL', 'pl-PL', 'pt-PT', 'ru-RU', 'zh-CN', 'all']\n"
     ]
    }
   ],
   "source": [
    "configs = get_dataset_config_names(\"PolyAI/minds14\")\n",
    "print(configs)"
   ],
   "metadata": {
    "collapsed": false,
    "ExecuteTime": {
     "end_time": "2024-11-08T09:33:26.749315900Z",
     "start_time": "2024-11-08T09:33:23.133465700Z"
    }
   },
   "id": "f78bc45c92662436"
  },
  {
   "cell_type": "code",
   "execution_count": 4,
   "outputs": [
    {
     "name": "stdout",
     "output_type": "stream",
     "text": [
      "DatasetDict({\n",
      "    train: Dataset({\n",
      "        features: ['path', 'audio', 'transcription', 'english_transcription', 'intent_class', 'lang_id'],\n",
      "        num_rows: 563\n",
      "    })\n",
      "})\n"
     ]
    }
   ],
   "source": [
    "print(minds_14)"
   ],
   "metadata": {
    "collapsed": false,
    "ExecuteTime": {
     "end_time": "2024-11-08T09:33:40.044944500Z",
     "start_time": "2024-11-08T09:33:39.996939400Z"
    }
   },
   "id": "66b385835ef23f6"
  },
  {
   "cell_type": "code",
   "execution_count": 8,
   "outputs": [],
   "source": [
    "train_data = minds_14['train']\n",
    "first10row = train_data.select(range(10))"
   ],
   "metadata": {
    "collapsed": false,
    "ExecuteTime": {
     "end_time": "2024-11-08T09:35:40.291750700Z",
     "start_time": "2024-11-08T09:35:40.144987800Z"
    }
   },
   "id": "c23b656db407d597"
  },
  {
   "cell_type": "code",
   "execution_count": 11,
   "outputs": [
    {
     "data": {
      "text/plain": "                                                path  \\\n0  C:\\Users\\Rowjak\\.cache\\huggingface\\datasets\\do...   \n1  C:\\Users\\Rowjak\\.cache\\huggingface\\datasets\\do...   \n2  C:\\Users\\Rowjak\\.cache\\huggingface\\datasets\\do...   \n3  C:\\Users\\Rowjak\\.cache\\huggingface\\datasets\\do...   \n4  C:\\Users\\Rowjak\\.cache\\huggingface\\datasets\\do...   \n5  C:\\Users\\Rowjak\\.cache\\huggingface\\datasets\\do...   \n6  C:\\Users\\Rowjak\\.cache\\huggingface\\datasets\\do...   \n7  C:\\Users\\Rowjak\\.cache\\huggingface\\datasets\\do...   \n8  C:\\Users\\Rowjak\\.cache\\huggingface\\datasets\\do...   \n9  C:\\Users\\Rowjak\\.cache\\huggingface\\datasets\\do...   \n\n                                               audio  \\\n0  {'path': 'C:\\Users\\Rowjak\\.cache\\huggingface\\d...   \n1  {'path': 'C:\\Users\\Rowjak\\.cache\\huggingface\\d...   \n2  {'path': 'C:\\Users\\Rowjak\\.cache\\huggingface\\d...   \n3  {'path': 'C:\\Users\\Rowjak\\.cache\\huggingface\\d...   \n4  {'path': 'C:\\Users\\Rowjak\\.cache\\huggingface\\d...   \n5  {'path': 'C:\\Users\\Rowjak\\.cache\\huggingface\\d...   \n6  {'path': 'C:\\Users\\Rowjak\\.cache\\huggingface\\d...   \n7  {'path': 'C:\\Users\\Rowjak\\.cache\\huggingface\\d...   \n8  {'path': 'C:\\Users\\Rowjak\\.cache\\huggingface\\d...   \n9  {'path': 'C:\\Users\\Rowjak\\.cache\\huggingface\\d...   \n\n                                       transcription  \\\n0  I would like to set up a joint account with my...   \n1  Henry County set up a joint account with my wi...   \n2  hi I'd like to set up a joint account with my ...   \n3                     how do I start a joint account   \n4        can you help me set up a joint bank account   \n5                      how to set up a joint account   \n6  is like you open a joint account tell me about...   \n7  can I have an account with my sister I want to...   \n8  I need to find out if I probably set up a join...   \n9  I am calling because I would like to set up a ...   \n\n                               english_transcription  intent_class  lang_id  \n0  I would like to set up a joint account with my...            11        4  \n1  Henry County set up a joint account with my wi...            11        4  \n2  hi I'd like to set up a joint account with my ...            11        4  \n3                     how do I start a joint account            11        4  \n4        can you help me set up a joint bank account            11        4  \n5                      how to set up a joint account            11        4  \n6  is like you open a joint account tell me about...            11        4  \n7  can I have an account with my sister I want to...            11        4  \n8  I need to find out if I probably set up a join...            11        4  \n9  I am calling because I would like to set up a ...            11        4  ",
      "text/html": "<div>\n<style scoped>\n    .dataframe tbody tr th:only-of-type {\n        vertical-align: middle;\n    }\n\n    .dataframe tbody tr th {\n        vertical-align: top;\n    }\n\n    .dataframe thead th {\n        text-align: right;\n    }\n</style>\n<table border=\"1\" class=\"dataframe\">\n  <thead>\n    <tr style=\"text-align: right;\">\n      <th></th>\n      <th>path</th>\n      <th>audio</th>\n      <th>transcription</th>\n      <th>english_transcription</th>\n      <th>intent_class</th>\n      <th>lang_id</th>\n    </tr>\n  </thead>\n  <tbody>\n    <tr>\n      <th>0</th>\n      <td>C:\\Users\\Rowjak\\.cache\\huggingface\\datasets\\do...</td>\n      <td>{'path': 'C:\\Users\\Rowjak\\.cache\\huggingface\\d...</td>\n      <td>I would like to set up a joint account with my...</td>\n      <td>I would like to set up a joint account with my...</td>\n      <td>11</td>\n      <td>4</td>\n    </tr>\n    <tr>\n      <th>1</th>\n      <td>C:\\Users\\Rowjak\\.cache\\huggingface\\datasets\\do...</td>\n      <td>{'path': 'C:\\Users\\Rowjak\\.cache\\huggingface\\d...</td>\n      <td>Henry County set up a joint account with my wi...</td>\n      <td>Henry County set up a joint account with my wi...</td>\n      <td>11</td>\n      <td>4</td>\n    </tr>\n    <tr>\n      <th>2</th>\n      <td>C:\\Users\\Rowjak\\.cache\\huggingface\\datasets\\do...</td>\n      <td>{'path': 'C:\\Users\\Rowjak\\.cache\\huggingface\\d...</td>\n      <td>hi I'd like to set up a joint account with my ...</td>\n      <td>hi I'd like to set up a joint account with my ...</td>\n      <td>11</td>\n      <td>4</td>\n    </tr>\n    <tr>\n      <th>3</th>\n      <td>C:\\Users\\Rowjak\\.cache\\huggingface\\datasets\\do...</td>\n      <td>{'path': 'C:\\Users\\Rowjak\\.cache\\huggingface\\d...</td>\n      <td>how do I start a joint account</td>\n      <td>how do I start a joint account</td>\n      <td>11</td>\n      <td>4</td>\n    </tr>\n    <tr>\n      <th>4</th>\n      <td>C:\\Users\\Rowjak\\.cache\\huggingface\\datasets\\do...</td>\n      <td>{'path': 'C:\\Users\\Rowjak\\.cache\\huggingface\\d...</td>\n      <td>can you help me set up a joint bank account</td>\n      <td>can you help me set up a joint bank account</td>\n      <td>11</td>\n      <td>4</td>\n    </tr>\n    <tr>\n      <th>5</th>\n      <td>C:\\Users\\Rowjak\\.cache\\huggingface\\datasets\\do...</td>\n      <td>{'path': 'C:\\Users\\Rowjak\\.cache\\huggingface\\d...</td>\n      <td>how to set up a joint account</td>\n      <td>how to set up a joint account</td>\n      <td>11</td>\n      <td>4</td>\n    </tr>\n    <tr>\n      <th>6</th>\n      <td>C:\\Users\\Rowjak\\.cache\\huggingface\\datasets\\do...</td>\n      <td>{'path': 'C:\\Users\\Rowjak\\.cache\\huggingface\\d...</td>\n      <td>is like you open a joint account tell me about...</td>\n      <td>is like you open a joint account tell me about...</td>\n      <td>11</td>\n      <td>4</td>\n    </tr>\n    <tr>\n      <th>7</th>\n      <td>C:\\Users\\Rowjak\\.cache\\huggingface\\datasets\\do...</td>\n      <td>{'path': 'C:\\Users\\Rowjak\\.cache\\huggingface\\d...</td>\n      <td>can I have an account with my sister I want to...</td>\n      <td>can I have an account with my sister I want to...</td>\n      <td>11</td>\n      <td>4</td>\n    </tr>\n    <tr>\n      <th>8</th>\n      <td>C:\\Users\\Rowjak\\.cache\\huggingface\\datasets\\do...</td>\n      <td>{'path': 'C:\\Users\\Rowjak\\.cache\\huggingface\\d...</td>\n      <td>I need to find out if I probably set up a join...</td>\n      <td>I need to find out if I probably set up a join...</td>\n      <td>11</td>\n      <td>4</td>\n    </tr>\n    <tr>\n      <th>9</th>\n      <td>C:\\Users\\Rowjak\\.cache\\huggingface\\datasets\\do...</td>\n      <td>{'path': 'C:\\Users\\Rowjak\\.cache\\huggingface\\d...</td>\n      <td>I am calling because I would like to set up a ...</td>\n      <td>I am calling because I would like to set up a ...</td>\n      <td>11</td>\n      <td>4</td>\n    </tr>\n  </tbody>\n</table>\n</div>"
     },
     "execution_count": 11,
     "metadata": {},
     "output_type": "execute_result"
    }
   ],
   "source": [
    "first_10_df = pd.DataFrame(first10row)\n",
    "\n",
    "# Display the DataFrame\n",
    "first_10_df"
   ],
   "metadata": {
    "collapsed": false,
    "ExecuteTime": {
     "end_time": "2024-11-08T09:37:22.933073700Z",
     "start_time": "2024-11-08T09:37:22.599163700Z"
    }
   },
   "id": "5d45200166301911"
  },
  {
   "cell_type": "code",
   "execution_count": 10,
   "outputs": [
    {
     "name": "stdout",
     "output_type": "stream",
     "text": [
      "{'path': ['C:\\\\Users\\\\Rowjak\\\\.cache\\\\huggingface\\\\datasets\\\\downloads\\\\extracted\\\\fb34205d6a0b0af1c4ce29917bda9f94445cec5eed0737825fe9e1f87be1bba6\\\\en-US~JOINT_ACCOUNT\\\\602ba55abb1e6d0fbce92065.wav', 'C:\\\\Users\\\\Rowjak\\\\.cache\\\\huggingface\\\\datasets\\\\downloads\\\\extracted\\\\fb34205d6a0b0af1c4ce29917bda9f94445cec5eed0737825fe9e1f87be1bba6\\\\en-US~JOINT_ACCOUNT\\\\602baf24bb1e6d0fbce922a7.wav', 'C:\\\\Users\\\\Rowjak\\\\.cache\\\\huggingface\\\\datasets\\\\downloads\\\\extracted\\\\fb34205d6a0b0af1c4ce29917bda9f94445cec5eed0737825fe9e1f87be1bba6\\\\en-US~JOINT_ACCOUNT\\\\602b9f97963e11ccd901cc32.wav', 'C:\\\\Users\\\\Rowjak\\\\.cache\\\\huggingface\\\\datasets\\\\downloads\\\\extracted\\\\fb34205d6a0b0af1c4ce29917bda9f94445cec5eed0737825fe9e1f87be1bba6\\\\en-US~JOINT_ACCOUNT\\\\602bacab5f67b421554f6488.wav', 'C:\\\\Users\\\\Rowjak\\\\.cache\\\\huggingface\\\\datasets\\\\downloads\\\\extracted\\\\fb34205d6a0b0af1c4ce29917bda9f94445cec5eed0737825fe9e1f87be1bba6\\\\en-US~JOINT_ACCOUNT\\\\602b9d4cbb1e6d0fbce91fa4.wav', 'C:\\\\Users\\\\Rowjak\\\\.cache\\\\huggingface\\\\datasets\\\\downloads\\\\extracted\\\\fb34205d6a0b0af1c4ce29917bda9f94445cec5eed0737825fe9e1f87be1bba6\\\\en-US~JOINT_ACCOUNT\\\\602bafa0bb1e6d0fbce922c7.wav', 'C:\\\\Users\\\\Rowjak\\\\.cache\\\\huggingface\\\\datasets\\\\downloads\\\\extracted\\\\fb34205d6a0b0af1c4ce29917bda9f94445cec5eed0737825fe9e1f87be1bba6\\\\en-US~JOINT_ACCOUNT\\\\602baf47bb1e6d0fbce922b6.wav', 'C:\\\\Users\\\\Rowjak\\\\.cache\\\\huggingface\\\\datasets\\\\downloads\\\\extracted\\\\fb34205d6a0b0af1c4ce29917bda9f94445cec5eed0737825fe9e1f87be1bba6\\\\en-US~JOINT_ACCOUNT\\\\602ba612bb1e6d0fbce92088.wav', 'C:\\\\Users\\\\Rowjak\\\\.cache\\\\huggingface\\\\datasets\\\\downloads\\\\extracted\\\\fb34205d6a0b0af1c4ce29917bda9f94445cec5eed0737825fe9e1f87be1bba6\\\\en-US~JOINT_ACCOUNT\\\\602baa0fbb1e6d0fbce9214f.wav', 'C:\\\\Users\\\\Rowjak\\\\.cache\\\\huggingface\\\\datasets\\\\downloads\\\\extracted\\\\fb34205d6a0b0af1c4ce29917bda9f94445cec5eed0737825fe9e1f87be1bba6\\\\en-US~JOINT_ACCOUNT\\\\602bac37bb1e6d0fbce921c0.wav'], 'audio': [{'path': 'C:\\\\Users\\\\Rowjak\\\\.cache\\\\huggingface\\\\datasets\\\\downloads\\\\extracted\\\\fb34205d6a0b0af1c4ce29917bda9f94445cec5eed0737825fe9e1f87be1bba6\\\\en-US~JOINT_ACCOUNT\\\\602ba55abb1e6d0fbce92065.wav', 'array': array([ 0.        ,  0.00024414, -0.00024414, ..., -0.00024414,\n",
      "        0.        ,  0.        ]), 'sampling_rate': 8000}, {'path': 'C:\\\\Users\\\\Rowjak\\\\.cache\\\\huggingface\\\\datasets\\\\downloads\\\\extracted\\\\fb34205d6a0b0af1c4ce29917bda9f94445cec5eed0737825fe9e1f87be1bba6\\\\en-US~JOINT_ACCOUNT\\\\602baf24bb1e6d0fbce922a7.wav', 'array': array([0.        , 0.00024414, 0.        , ..., 0.01306152, 0.01208496,\n",
      "       0.01135254]), 'sampling_rate': 8000}, {'path': 'C:\\\\Users\\\\Rowjak\\\\.cache\\\\huggingface\\\\datasets\\\\downloads\\\\extracted\\\\fb34205d6a0b0af1c4ce29917bda9f94445cec5eed0737825fe9e1f87be1bba6\\\\en-US~JOINT_ACCOUNT\\\\602b9f97963e11ccd901cc32.wav', 'array': array([0.        , 0.        , 0.        , ..., 0.00073242, 0.00048828,\n",
      "       0.00097656]), 'sampling_rate': 8000}, {'path': 'C:\\\\Users\\\\Rowjak\\\\.cache\\\\huggingface\\\\datasets\\\\downloads\\\\extracted\\\\fb34205d6a0b0af1c4ce29917bda9f94445cec5eed0737825fe9e1f87be1bba6\\\\en-US~JOINT_ACCOUNT\\\\602bacab5f67b421554f6488.wav', 'array': array([ 0.00024414,  0.        ,  0.        , ...,  0.        ,\n",
      "        0.        , -0.00024414]), 'sampling_rate': 8000}, {'path': 'C:\\\\Users\\\\Rowjak\\\\.cache\\\\huggingface\\\\datasets\\\\downloads\\\\extracted\\\\fb34205d6a0b0af1c4ce29917bda9f94445cec5eed0737825fe9e1f87be1bba6\\\\en-US~JOINT_ACCOUNT\\\\602b9d4cbb1e6d0fbce91fa4.wav', 'array': array([-0.00024414,  0.        , -0.00024414, ...,  0.        ,\n",
      "        0.00024414,  0.00024414]), 'sampling_rate': 8000}, {'path': 'C:\\\\Users\\\\Rowjak\\\\.cache\\\\huggingface\\\\datasets\\\\downloads\\\\extracted\\\\fb34205d6a0b0af1c4ce29917bda9f94445cec5eed0737825fe9e1f87be1bba6\\\\en-US~JOINT_ACCOUNT\\\\602bafa0bb1e6d0fbce922c7.wav', 'array': array([ 0.        ,  0.00024414,  0.00024414, ..., -0.00170898,\n",
      "       -0.00170898, -0.00170898]), 'sampling_rate': 8000}, {'path': 'C:\\\\Users\\\\Rowjak\\\\.cache\\\\huggingface\\\\datasets\\\\downloads\\\\extracted\\\\fb34205d6a0b0af1c4ce29917bda9f94445cec5eed0737825fe9e1f87be1bba6\\\\en-US~JOINT_ACCOUNT\\\\602baf47bb1e6d0fbce922b6.wav', 'array': array([-0.00024414,  0.        ,  0.        , ..., -0.0012207 ,\n",
      "       -0.00024414,  0.        ]), 'sampling_rate': 8000}, {'path': 'C:\\\\Users\\\\Rowjak\\\\.cache\\\\huggingface\\\\datasets\\\\downloads\\\\extracted\\\\fb34205d6a0b0af1c4ce29917bda9f94445cec5eed0737825fe9e1f87be1bba6\\\\en-US~JOINT_ACCOUNT\\\\602ba612bb1e6d0fbce92088.wav', 'array': array([ 0.        ,  0.        ,  0.00024414, ..., -0.00073242,\n",
      "       -0.00073242, -0.00073242]), 'sampling_rate': 8000}, {'path': 'C:\\\\Users\\\\Rowjak\\\\.cache\\\\huggingface\\\\datasets\\\\downloads\\\\extracted\\\\fb34205d6a0b0af1c4ce29917bda9f94445cec5eed0737825fe9e1f87be1bba6\\\\en-US~JOINT_ACCOUNT\\\\602baa0fbb1e6d0fbce9214f.wav', 'array': array([ 0.        , -0.00024414,  0.00024414, ..., -0.01135254,\n",
      "       -0.0098877 , -0.01208496]), 'sampling_rate': 8000}, {'path': 'C:\\\\Users\\\\Rowjak\\\\.cache\\\\huggingface\\\\datasets\\\\downloads\\\\extracted\\\\fb34205d6a0b0af1c4ce29917bda9f94445cec5eed0737825fe9e1f87be1bba6\\\\en-US~JOINT_ACCOUNT\\\\602bac37bb1e6d0fbce921c0.wav', 'array': array([-0.00024414,  0.        ,  0.        , ...,  0.00024414,\n",
      "        0.        , -0.00024414]), 'sampling_rate': 8000}], 'transcription': ['I would like to set up a joint account with my partner', 'Henry County set up a joint account with my wife and where are they at', \"hi I'd like to set up a joint account with my partner I'm not seeing the option to do it on the app so I called in to get some help can I do it over the phone with you and give you the information\", 'how do I start a joint account', 'can you help me set up a joint bank account', 'how to set up a joint account', 'is like you open a joint account tell me about processes', 'can I have an account with my sister I want to set up a joint account', 'I need to find out if I probably set up a joint account', 'I am calling because I would like to set up a joint with my partner as possible and is there a bunny'], 'english_transcription': ['I would like to set up a joint account with my partner', 'Henry County set up a joint account with my wife and where are they at', \"hi I'd like to set up a joint account with my partner I'm not seeing the option to do it on the app so I called in to get some help can I do it over the phone with you and give you the information\", 'how do I start a joint account', 'can you help me set up a joint bank account', 'how to set up a joint account', 'is like you open a joint account tell me about processes', 'can I have an account with my sister I want to set up a joint account', 'I need to find out if I probably set up a joint account', 'I am calling because I would like to set up a joint with my partner as possible and is there a bunny'], 'intent_class': [11, 11, 11, 11, 11, 11, 11, 11, 11, 11], 'lang_id': [4, 4, 4, 4, 4, 4, 4, 4, 4, 4]}\n"
     ]
    }
   ],
   "source": [
    "print(first10row[:])"
   ],
   "metadata": {
    "collapsed": false,
    "ExecuteTime": {
     "end_time": "2024-11-08T09:36:27.839383800Z",
     "start_time": "2024-11-08T09:35:55.589610300Z"
    }
   },
   "id": "1c531319752caa70"
  },
  {
   "cell_type": "code",
   "execution_count": 54,
   "outputs": [],
   "source": [
    "# Install dependencies if not already installed\n",
    "# !pip install transformers datasets librosa evaluate noisereduce\n",
    "\n",
    "# Import necessary libraries\n",
    "import torch\n",
    "from datasets import load_dataset, DatasetDict\n",
    "from transformers import Wav2Vec2Processor, Wav2Vec2ForCTC, Seq2SeqTrainer, Seq2SeqTrainingArguments\n",
    "import numpy as np\n",
    "import librosa\n",
    "import noisereduce as nr  # Library for noise reduction\n",
    "from sklearn.model_selection import train_test_split\n",
    "import evaluate\n",
    "\n",
    "# Load the dataset\n",
    "dataset = minds_14"
   ],
   "metadata": {
    "collapsed": false,
    "ExecuteTime": {
     "end_time": "2024-11-04T11:50:02.936205200Z",
     "start_time": "2024-11-04T11:50:02.875489700Z"
    }
   },
   "id": "76bcb9eec6070b8f"
  },
  {
   "cell_type": "code",
   "execution_count": 55,
   "outputs": [
    {
     "name": "stderr",
     "output_type": "stream",
     "text": [
      "Some weights of Wav2Vec2ForCTC were not initialized from the model checkpoint at facebook/wav2vec2-base-960h and are newly initialized: ['wav2vec2.masked_spec_embed']\n",
      "You should probably TRAIN this model on a down-stream task to be able to use it for predictions and inference.\n"
     ]
    }
   ],
   "source": [
    "# Load Wav2Vec2 Processor and Model for CTC\n",
    "device = \"cuda\" if torch.cuda.is_available() else \"cpu\"\n",
    "\n",
    "processor = Wav2Vec2Processor.from_pretrained(\"facebook/wav2vec2-base-960h\")\n",
    "model = Wav2Vec2ForCTC.from_pretrained(\"facebook/wav2vec2-base-960h\").to(device)"
   ],
   "metadata": {
    "collapsed": false,
    "ExecuteTime": {
     "end_time": "2024-11-04T11:50:05.367339300Z",
     "start_time": "2024-11-04T11:50:02.913626Z"
    }
   },
   "id": "3a0f58dd4e300b84"
  },
  {
   "cell_type": "code",
   "execution_count": 56,
   "outputs": [
    {
     "data": {
      "text/plain": "Map:   0%|          | 0/563 [00:00<?, ? examples/s]",
      "application/vnd.jupyter.widget-view+json": {
       "version_major": 2,
       "version_minor": 0,
       "model_id": "8a495ccf6f54440d9a33cb07e43e0a33"
      }
     },
     "metadata": {},
     "output_type": "display_data"
    }
   ],
   "source": [
    "\n",
    "\n",
    "# Define label mapping (e.g., mapping each intent to an integer label)\n",
    "intent_to_id = {intent: idx for idx, intent in enumerate(set(dataset['train']['intent_class']))}\n",
    "\n",
    "def preprocess_function(batch):\n",
    "    # Mendapatkan array audio dan sampling rate dari kolom 'audio'\n",
    "    audio = batch[\"audio\"][\"array\"]\n",
    "    orig_sampling_rate = batch[\"audio\"][\"sampling_rate\"]\n",
    "\n",
    "    # Resample audio ke 16 kHz jika diperlukan\n",
    "    if orig_sampling_rate != 16000:\n",
    "        audio = librosa.resample(audio, orig_sr=orig_sampling_rate, target_sr=16000)\n",
    "    \n",
    "    # Noise reduction dan normalisasi amplitudo\n",
    "    audio = nr.reduce_noise(y=audio, sr=16000)\n",
    "    audio = librosa.util.normalize(audio)\n",
    "    \n",
    "    # Konversi audio ke input untuk Wav2Vec2 dengan sampling_rate yang jelas\n",
    "    inputs = processor(audio, sampling_rate=16000, return_tensors=\"pt\", padding=True)\n",
    "    batch[\"input_values\"] = inputs.input_values[0]\n",
    "\n",
    "    # Ubah intent_class ke label numerik\n",
    "    batch[\"labels\"] = torch.tensor(intent_to_id[batch[\"intent_class\"]])\n",
    "    return batch\n",
    "\n",
    "# Map preprocess function to dataset\n",
    "processed_dataset = dataset.map(preprocess_function)\n"
   ],
   "metadata": {
    "collapsed": false,
    "ExecuteTime": {
     "end_time": "2024-11-04T11:52:05.982002700Z",
     "start_time": "2024-11-04T11:50:05.367339300Z"
    }
   },
   "id": "fceb92121b21d15d"
  },
  {
   "cell_type": "code",
   "execution_count": 57,
   "outputs": [
    {
     "name": "stdout",
     "output_type": "stream",
     "text": [
      "DatasetDict({\n",
      "    train: Dataset({\n",
      "        features: ['path', 'audio', 'transcription', 'english_transcription', 'intent_class', 'lang_id', 'input_values', 'labels'],\n",
      "        num_rows: 394\n",
      "    })\n",
      "    validation: Dataset({\n",
      "        features: ['path', 'audio', 'transcription', 'english_transcription', 'intent_class', 'lang_id', 'input_values', 'labels'],\n",
      "        num_rows: 84\n",
      "    })\n",
      "    test: Dataset({\n",
      "        features: ['path', 'audio', 'transcription', 'english_transcription', 'intent_class', 'lang_id', 'input_values', 'labels'],\n",
      "        num_rows: 85\n",
      "    })\n",
      "})\n"
     ]
    }
   ],
   "source": [
    "# Pisahkan dataset yang sudah diproses menjadi train (70%), val (15%), dan test (15%)\n",
    "train_testval_data = processed_dataset[\"train\"].train_test_split(test_size=0.3, seed=42)\n",
    "train_data = train_testval_data[\"train\"]\n",
    "testval_data = train_testval_data[\"test\"]\n",
    "\n",
    "# Bagi lagi testval_data menjadi validation dan test\n",
    "val_test_split = testval_data.train_test_split(test_size=0.5, seed=42)\n",
    "val_data = val_test_split[\"train\"]\n",
    "test_data = val_test_split[\"test\"]\n",
    "\n",
    "# Buat DatasetDict baru dengan pembagian train, validation, dan test\n",
    "final_dataset = DatasetDict({\n",
    "    \"train\": train_data,\n",
    "    \"validation\": val_data,\n",
    "    \"test\": test_data\n",
    "})\n",
    "\n",
    "# Cek hasil pembagian\n",
    "print(final_dataset)"
   ],
   "metadata": {
    "collapsed": false,
    "ExecuteTime": {
     "end_time": "2024-11-04T11:52:06.033555100Z",
     "start_time": "2024-11-04T11:52:05.984130200Z"
    }
   },
   "id": "d10ac08aa741ac00"
  }
 ],
 "metadata": {
  "kernelspec": {
   "display_name": "Python 3",
   "language": "python",
   "name": "python3"
  },
  "language_info": {
   "codemirror_mode": {
    "name": "ipython",
    "version": 2
   },
   "file_extension": ".py",
   "mimetype": "text/x-python",
   "name": "python",
   "nbconvert_exporter": "python",
   "pygments_lexer": "ipython2",
   "version": "2.7.6"
  }
 },
 "nbformat": 4,
 "nbformat_minor": 5
}
