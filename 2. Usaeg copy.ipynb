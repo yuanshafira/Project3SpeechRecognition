{
 "cells": [
  {
   "cell_type": "code",
   "execution_count": 13,
   "outputs": [],
   "source": [
    "from transformers import pipeline\n",
    "import requests\n",
    "from langdetect import detect\n",
    "import torch\n"
   ],
   "metadata": {
    "collapsed": false,
    "ExecuteTime": {
     "end_time": "2024-11-08T10:31:59.511545400Z",
     "start_time": "2024-11-08T10:31:59.408368700Z"
    }
   },
   "id": "d9108955875bb989"
  },
  {
   "cell_type": "code",
   "execution_count": 24,
   "outputs": [
    {
     "name": "stderr",
     "output_type": "stream",
     "text": [
      "D:\\AppPython\\IndonesiaAIBootcamp\\NLPBootcamp\\.venv\\lib\\site-packages\\transformers\\models\\whisper\\generation_whisper.py:496: FutureWarning: The input name `inputs` is deprecated. Please make sure to use `input_features` instead.\n",
      "  warnings.warn(\n"
     ]
    },
    {
     "name": "stdout",
     "output_type": "stream",
     "text": [
      "Original Text: how do i start a joint account\n",
      "Detected Language: en\n"
     ]
    }
   ],
   "source": [
    "\n",
    "# Check if GPU is available and set device accordingly\n",
    "device = 0 if torch.cuda.is_available() else -1\n",
    "\n",
    "# Load ASR pipeline with Whisper Tiny and set device to GPU if available\n",
    "# asr_pipeline = pipeline(\"automatic-speech-recognition\", model=\"openai/whisper-tiny\", device=device)\n",
    "asr_pipeline = pipeline(\"automatic-speech-recognition\", model=\"rowjak/whisper-tiny-minds14-en\", device=device)\n",
    "classification_pipeline = pipeline(\"audio-classification\", model=\"rowjak/wav2vec2-minds14-audio-classification\", device=device)\n",
    "\n",
    "# Function to download the audio file\n",
    "def download_audio(url, filename=\"audio.mp3\"):\n",
    "    response = requests.get(url)\n",
    "    with open(filename, \"wb\") as file:\n",
    "        file.write(response.content)\n",
    "    return filename\n",
    "\n",
    "# Audio URL\n",
    "audio_url = \"http://103.149.203.216:9000/inspira/NLP-C/3F311165F76CA70E0765.wav\"\n",
    "audio_file = download_audio(audio_url)\n",
    "\n",
    "# Transcribe and detect language\n",
    "transcription = asr_pipeline(audio_file)\n",
    "transcribed_text = transcription['text']\n",
    "detected_language = detect(transcribed_text)\n",
    "\n",
    "print(\"Original Text:\", transcribed_text)\n",
    "print(\"Detected Language:\", detected_language)"
   ],
   "metadata": {
    "collapsed": false,
    "ExecuteTime": {
     "end_time": "2024-11-08T10:36:58.345322100Z",
     "start_time": "2024-11-08T10:36:54.374874900Z"
    }
   },
   "id": "8f8e79a975400246"
  },
  {
   "cell_type": "code",
   "execution_count": 25,
   "outputs": [
    {
     "name": "stdout",
     "output_type": "stream",
     "text": [
      "Audio Classification Results: [{'score': 0.07797098904848099, 'label': 'card_issues'}, {'score': 0.07661126554012299, 'label': 'direct_debit'}, {'score': 0.07647158205509186, 'label': 'address'}, {'score': 0.07616636902093887, 'label': 'latest_transactions'}, {'score': 0.07464135438203812, 'label': 'joint_account'}]\n"
     ]
    }
   ],
   "source": [
    "\n",
    "# Perform audio classification using the same model\n",
    "audio_classification_results = classification_pipeline(audio_file)\n",
    "\n",
    "# Print classification results\n",
    "print(\"Audio Classification Results:\", audio_classification_results)"
   ],
   "metadata": {
    "collapsed": false,
    "ExecuteTime": {
     "end_time": "2024-11-08T10:37:02.523398500Z",
     "start_time": "2024-11-08T10:37:02.116700600Z"
    }
   },
   "id": "99ca90f553611870"
  },
  {
   "cell_type": "code",
   "execution_count": 31,
   "outputs": [
    {
     "name": "stderr",
     "output_type": "stream",
     "text": [
      "Using the latest cached version of the module from C:\\Users\\Rowjak\\.cache\\huggingface\\modules\\datasets_modules\\datasets\\PolyAI--minds14\\7bdf27fccad4efc6da7c00f739d96bfa0d25a7a85f2244755a73c865f70182bc (last modified on Mon Nov  4 13:34:55 2024) since it couldn't be found locally at PolyAI/minds14, or remotely on the Hugging Face Hub.\n"
     ]
    },
    {
     "data": {
      "text/plain": "config.json:   0%|          | 0.00/3.16k [00:00<?, ?B/s]",
      "application/vnd.jupyter.widget-view+json": {
       "version_major": 2,
       "version_minor": 0,
       "model_id": "843bdafa232742b18901312c9cc93cef"
      }
     },
     "metadata": {},
     "output_type": "display_data"
    },
    {
     "data": {
      "text/plain": "model.safetensors:   0%|          | 0.00/378M [00:00<?, ?B/s]",
      "application/vnd.jupyter.widget-view+json": {
       "version_major": 2,
       "version_minor": 0,
       "model_id": "85076306fbf14fcebf42c79d00b021d6"
      }
     },
     "metadata": {},
     "output_type": "display_data"
    },
    {
     "data": {
      "text/plain": "preprocessor_config.json:   0%|          | 0.00/215 [00:00<?, ?B/s]",
      "application/vnd.jupyter.widget-view+json": {
       "version_major": 2,
       "version_minor": 0,
       "model_id": "b7007b7ffa094d11b947fcbb5b88d85e"
      }
     },
     "metadata": {},
     "output_type": "display_data"
    }
   ],
   "source": [
    "from datasets import load_dataset\n",
    "from transformers import pipeline\n",
    "import pandas as pd\n",
    "\n",
    "device = 0 if torch.cuda.is_available() else -1\n",
    "# Load dataset\n",
    "dataset = load_dataset(\"PolyAI/minds14\", 'en-US', trust_remote_code=True)\n",
    "\n",
    "# Load classification pipeline\n",
    "model_name = \"rowjak/wav2vec2-minds14-audio-classification-all\"\n",
    "classifier = pipeline(\"audio-classification\", model=model_name, device=device)\n",
    "\n",
    "\n"
   ],
   "metadata": {
    "collapsed": false,
    "ExecuteTime": {
     "end_time": "2024-11-08T11:32:35.059229500Z",
     "start_time": "2024-11-08T11:30:42.348271300Z"
    }
   },
   "id": "c2acf9f063dc0695"
  },
  {
   "cell_type": "code",
   "execution_count": 28,
   "outputs": [],
   "source": [
    "dataset_used = dataset['train'].select(range(100))"
   ],
   "metadata": {
    "collapsed": false,
    "ExecuteTime": {
     "end_time": "2024-11-08T10:56:13.809894400Z",
     "start_time": "2024-11-08T10:56:13.783457800Z"
    }
   },
   "id": "2c4dd1a77e987d34"
  },
  {
   "cell_type": "code",
   "execution_count": 29,
   "outputs": [
    {
     "data": {
      "text/plain": "Dataset({\n    features: ['path', 'audio', 'transcription', 'english_transcription', 'intent_class', 'lang_id'],\n    num_rows: 100\n})"
     },
     "execution_count": 29,
     "metadata": {},
     "output_type": "execute_result"
    }
   ],
   "source": [
    "dataset_used"
   ],
   "metadata": {
    "collapsed": false,
    "ExecuteTime": {
     "end_time": "2024-11-08T10:56:15.309525100Z",
     "start_time": "2024-11-08T10:56:15.279819700Z"
    }
   },
   "id": "fd9dd4b2b57152a1"
  },
  {
   "cell_type": "code",
   "execution_count": 30,
   "outputs": [
    {
     "data": {
      "text/plain": "                         filename   intent_class prediction_intent_class  \\\n0    602ba55abb1e6d0fbce92065.wav  joint_account                 balance   \n1    602baf24bb1e6d0fbce922a7.wav  joint_account            cash_deposit   \n2    602b9f97963e11ccd901cc32.wav  joint_account                 balance   \n3    602bacab5f67b421554f6488.wav  joint_account                 balance   \n4    602b9d4cbb1e6d0fbce91fa4.wav  joint_account                 balance   \n..                            ...            ...                     ...   \n558  602bac4d963e11ccd901cda8.wav  business_loan                 balance   \n559  602ba481963e11ccd901cc94.wav  business_loan                 balance   \n560  602b98a5963e11ccd901cba2.wav  business_loan                 balance   \n561  602ba84f5f67b421554f643e.wav  business_loan                 balance   \n562  602ba6adbb1e6d0fbce920ae.wav  business_loan                 balance   \n\n                                         transcription  \n0    I would like to set up a joint account with my...  \n1    Henry County set up a joint account with my wi...  \n2    hi I'd like to set up a joint account with my ...  \n3                       how do I start a joint account  \n4          can you help me set up a joint bank account  \n..                                                 ...  \n558  hi I'm an account holder have been for 18 year...  \n559  I'm about to make my first payment on my loan ...  \n560  hi there I'm working about a business loan I w...  \n561                   hello I would like to take alone  \n562  hi I'm calling from Snyder hardware and I need...  \n\n[563 rows x 4 columns]",
      "text/html": "<div>\n<style scoped>\n    .dataframe tbody tr th:only-of-type {\n        vertical-align: middle;\n    }\n\n    .dataframe tbody tr th {\n        vertical-align: top;\n    }\n\n    .dataframe thead th {\n        text-align: right;\n    }\n</style>\n<table border=\"1\" class=\"dataframe\">\n  <thead>\n    <tr style=\"text-align: right;\">\n      <th></th>\n      <th>filename</th>\n      <th>intent_class</th>\n      <th>prediction_intent_class</th>\n      <th>transcription</th>\n    </tr>\n  </thead>\n  <tbody>\n    <tr>\n      <th>0</th>\n      <td>602ba55abb1e6d0fbce92065.wav</td>\n      <td>joint_account</td>\n      <td>balance</td>\n      <td>I would like to set up a joint account with my...</td>\n    </tr>\n    <tr>\n      <th>1</th>\n      <td>602baf24bb1e6d0fbce922a7.wav</td>\n      <td>joint_account</td>\n      <td>cash_deposit</td>\n      <td>Henry County set up a joint account with my wi...</td>\n    </tr>\n    <tr>\n      <th>2</th>\n      <td>602b9f97963e11ccd901cc32.wav</td>\n      <td>joint_account</td>\n      <td>balance</td>\n      <td>hi I'd like to set up a joint account with my ...</td>\n    </tr>\n    <tr>\n      <th>3</th>\n      <td>602bacab5f67b421554f6488.wav</td>\n      <td>joint_account</td>\n      <td>balance</td>\n      <td>how do I start a joint account</td>\n    </tr>\n    <tr>\n      <th>4</th>\n      <td>602b9d4cbb1e6d0fbce91fa4.wav</td>\n      <td>joint_account</td>\n      <td>balance</td>\n      <td>can you help me set up a joint bank account</td>\n    </tr>\n    <tr>\n      <th>...</th>\n      <td>...</td>\n      <td>...</td>\n      <td>...</td>\n      <td>...</td>\n    </tr>\n    <tr>\n      <th>558</th>\n      <td>602bac4d963e11ccd901cda8.wav</td>\n      <td>business_loan</td>\n      <td>balance</td>\n      <td>hi I'm an account holder have been for 18 year...</td>\n    </tr>\n    <tr>\n      <th>559</th>\n      <td>602ba481963e11ccd901cc94.wav</td>\n      <td>business_loan</td>\n      <td>balance</td>\n      <td>I'm about to make my first payment on my loan ...</td>\n    </tr>\n    <tr>\n      <th>560</th>\n      <td>602b98a5963e11ccd901cba2.wav</td>\n      <td>business_loan</td>\n      <td>balance</td>\n      <td>hi there I'm working about a business loan I w...</td>\n    </tr>\n    <tr>\n      <th>561</th>\n      <td>602ba84f5f67b421554f643e.wav</td>\n      <td>business_loan</td>\n      <td>balance</td>\n      <td>hello I would like to take alone</td>\n    </tr>\n    <tr>\n      <th>562</th>\n      <td>602ba6adbb1e6d0fbce920ae.wav</td>\n      <td>business_loan</td>\n      <td>balance</td>\n      <td>hi I'm calling from Snyder hardware and I need...</td>\n    </tr>\n  </tbody>\n</table>\n<p>563 rows × 4 columns</p>\n</div>"
     },
     "execution_count": 30,
     "metadata": {},
     "output_type": "execute_result"
    }
   ],
   "source": [
    "import os\n",
    "\n",
    "intent_classes = {\n",
    "    0: 'abroad',\n",
    "    1: 'adress',\n",
    "    2: 'app_error',\n",
    "    3: 'atm_limit',\n",
    "    4: 'balance',\n",
    "    5: 'business_loan',\n",
    "    6: 'card_issues',\n",
    "    7: 'cash_deposite',\n",
    "    8: 'direct_debit',\n",
    "    9: 'freeze',\n",
    "    10: 'latest_transactions',\n",
    "    11: 'joint_account',\n",
    "    12: 'high_value_payment',\n",
    "    13: 'pay_bill'\n",
    "}\n",
    "\n",
    "results = []\n",
    "\n",
    "for entry in dataset['train']:\n",
    "# for entry in dataset_used:\n",
    "    filename = os.path.basename(entry[\"path\"])  # Get only the filename\n",
    "    intent_class = intent_classes[entry[\"intent_class\"]]  # Map index to label\n",
    "    \n",
    "    # Get the prediction\n",
    "    prediction = classifier(entry[\"path\"])\n",
    "    predicted_intent_class = prediction[0][\"label\"]\n",
    "    \n",
    "    # Append results\n",
    "    results.append({\n",
    "        \"filename\": filename,\n",
    "        \"intent_class\": intent_class,\n",
    "        \"prediction_intent_class\": predicted_intent_class,\n",
    "        \"transcription\" : entry[\"transcription\"]\n",
    "    })\n",
    "# \n",
    "# # Convert results to DataFrame\n",
    "# results_df = pd.DataFrame(results)\n",
    "# \n",
    "# # Analyze intent class distribution\n",
    "# intent_class_distribution = results_df[\"prediction_intent_class\"].value_counts()\n",
    "# \n",
    "# # Display the DataFrame and distribution\n",
    "# print(\"Prediction Results:\")\n",
    "# print(results_df)\n",
    "# print(\"\\nIntent Class Distribution:\")\n",
    "# print(intent_class_distribution)\n",
    "\n",
    "results_df = pd.DataFrame(results)\n",
    "\n",
    "# Create DataFrame for intent class distribution\n",
    "intent_class_distribution_df = results_df[\"prediction_intent_class\"].value_counts().reset_index()\n",
    "intent_class_distribution_df.columns = [\"intent_class\", \"count\"]\n",
    "\n",
    "# Display the DataFrames\n",
    "results_df"
   ],
   "metadata": {
    "collapsed": false,
    "ExecuteTime": {
     "end_time": "2024-11-08T10:58:05.387369100Z",
     "start_time": "2024-11-08T10:56:16.577806200Z"
    }
   },
   "id": "1e261d352c9c41f"
  },
  {
   "cell_type": "code",
   "execution_count": null,
   "outputs": [],
   "source": [],
   "metadata": {
    "collapsed": false,
    "ExecuteTime": {
     "end_time": "2024-11-08T10:32:02.434550700Z",
     "start_time": "2024-11-08T10:32:02.432551Z"
    }
   },
   "id": "21bada2696d6e4a9"
  }
 ],
 "metadata": {
  "kernelspec": {
   "display_name": "Python 3",
   "language": "python",
   "name": "python3"
  },
  "language_info": {
   "codemirror_mode": {
    "name": "ipython",
    "version": 2
   },
   "file_extension": ".py",
   "mimetype": "text/x-python",
   "name": "python",
   "nbconvert_exporter": "python",
   "pygments_lexer": "ipython2",
   "version": "2.7.6"
  }
 },
 "nbformat": 4,
 "nbformat_minor": 5
}
