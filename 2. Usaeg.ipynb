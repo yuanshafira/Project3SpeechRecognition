{
 "cells": [
  {
   "cell_type": "code",
   "execution_count": 14,
   "outputs": [],
   "source": [],
   "metadata": {
    "collapsed": false,
    "ExecuteTime": {
     "end_time": "2024-11-05T03:46:36.298532800Z",
     "start_time": "2024-11-05T03:46:36.272997Z"
    }
   },
   "id": "1cb342e99be72297"
  },
  {
   "cell_type": "code",
   "execution_count": 15,
   "outputs": [],
   "source": [
    "# from transformers import pipeline\n",
    "# import requests\n",
    "# from langdetect import detect\n",
    "# import torch\n",
    "# \n",
    "# # Check if GPU is available and set device accordingly\n",
    "# device = 0 if torch.cuda.is_available() else -1\n",
    "# \n",
    "# # Load ASR pipeline with Whisper Tiny and set device to GPU if available\n",
    "# asr_pipeline = pipeline(\"automatic-speech-recognition\", model=\"openai/whisper-tiny\", device=device)\n",
    "# \n",
    "# # Function to download the audio file\n",
    "# def download_audio(url, filename=\"audio.mp3\"):\n",
    "#     response = requests.get(url)\n",
    "#     with open(filename, \"wb\") as file:\n",
    "#         file.write(response.content)\n",
    "#     return filename\n",
    "# \n",
    "# # Audio URL\n",
    "# audio_url = \"http://103.149.203.216:9000/inspira/NLP-C/3F9E791ABE1F73614469.wav\"\n",
    "# audio_file = download_audio(audio_url)\n",
    "# \n",
    "# # Transcribe and detect language\n",
    "# transcription = asr_pipeline(audio_file)\n",
    "# transcribed_text = transcription['text']\n",
    "# detected_language = detect(transcribed_text)\n",
    "# \n",
    "# print(\"Original Text:\", transcribed_text)\n",
    "# print(\"Detected Language:\", detected_language)\n"
   ],
   "metadata": {
    "collapsed": false,
    "ExecuteTime": {
     "end_time": "2024-11-05T03:46:47.980816800Z",
     "start_time": "2024-11-05T03:46:36.296532600Z"
    }
   },
   "id": "d9108955875bb989"
  },
  {
   "cell_type": "code",
   "execution_count": 16,
   "outputs": [
    {
     "name": "stdout",
     "output_type": "stream",
     "text": [
      "Original Text:  I see this thing called direct debit. I don't know exactly what those are. Can you tell me about them?\n",
      "Detected Language: en\n"
     ]
    }
   ],
   "source": [],
   "metadata": {
    "collapsed": false,
    "ExecuteTime": {
     "end_time": "2024-11-05T03:46:48.914999200Z",
     "start_time": "2024-11-05T03:46:47.980816800Z"
    }
   },
   "id": "60f51a9efde70969"
  }
 ],
 "metadata": {
  "kernelspec": {
   "display_name": "Python 3",
   "language": "python",
   "name": "python3"
  },
  "language_info": {
   "codemirror_mode": {
    "name": "ipython",
    "version": 2
   },
   "file_extension": ".py",
   "mimetype": "text/x-python",
   "name": "python",
   "nbconvert_exporter": "python",
   "pygments_lexer": "ipython2",
   "version": "2.7.6"
  }
 },
 "nbformat": 4,
 "nbformat_minor": 5
}
